{
 "cells": [
  {
   "cell_type": "code",
   "execution_count": 1,
   "id": "1b69d5e5",
   "metadata": {},
   "outputs": [],
   "source": [
    "import numpy as np\n",
    "import pandas as pd\n",
    "import sqlite3\n",
    "import glob"
   ]
  },
  {
   "cell_type": "code",
   "execution_count": 2,
   "id": "c95935dd",
   "metadata": {},
   "outputs": [
    {
     "name": "stdout",
     "output_type": "stream",
     "text": [
      "--------\n",
      "m2_baseline_v3.3_10yrs.db: number of back-to-back swaps= 74\n",
      "--------\n",
      "old_throu_baseline_v3.3_10yrs.db: number of back-to-back swaps= 59\n"
     ]
    }
   ],
   "source": [
    "files = glob.glob('*10yrs.db')\n",
    "files.sort()\n",
    "\n",
    "max_time_gap = 20\n",
    "\n",
    "for filename in files:\n",
    "\n",
    "    con = sqlite3.connect(filename)\n",
    "    df = pd.read_sql('select filter,night,note,observationStartMJD from observations;', con)\n",
    "    con.close()\n",
    "\n",
    "    count = 0\n",
    "    notes = []\n",
    "    for i in np.arange(np.size(df['filter'])-2):\n",
    "        if np.size(np.unique(df['night'].values[i:i+3])) == 1:\n",
    "            if (df['observationStartMJD'][i+2]-df['observationStartMJD'][i]) < (max_time_gap/60/24.):\n",
    "                if df['filter'].values[i] != df['filter'].values[i+1]:\n",
    "                    if df['filter'].values[i+1] != df['filter'].values[i+2]:\n",
    "                        count += 1\n",
    "                        notes.append([df['note'].values[i:i+3]])\n",
    "    print('--------')\n",
    "    print('%s: number of back-to-back swaps=' % filename, count)\n",
    "    #print(notes)\n"
   ]
  },
  {
   "cell_type": "code",
   "execution_count": 3,
   "id": "2641b22d",
   "metadata": {},
   "outputs": [
    {
     "data": {
      "text/plain": [
       "[[array(['pair_15, iz, a', 'pair_15, iz, b', 'DD:COSMOS'], dtype=object)],\n",
       " [array(['pair_15, zy, a', 'pair_15, zy, b', 'DD:ECDFS'], dtype=object)],\n",
       " [array(['pair_15, iz, b', 'DD:XMM_LSS', 'pair_33, ur, a'], dtype=object)],\n",
       " [array(['pair_33, iz, b', 'long', 'pair_33, ug, a'], dtype=object)],\n",
       " [array(['DD:COSMOS', 'DD:COSMOS', 'DD:COSMOS'], dtype=object)],\n",
       " [array(['pair_33, zy, b', 'long', 'pair_33, gr, a'], dtype=object)],\n",
       " [array(['pair_15, zy, a', 'pair_15, zy, b', 'DD:EDFS_a'], dtype=object)],\n",
       " [array(['pair_15, iz, b', 'DD:XMM_LSS', 'DD:EDFS_a'], dtype=object)],\n",
       " [array(['pair_15, iz, a', 'pair_15, iz, b', 'DD:COSMOS'], dtype=object)],\n",
       " [array(['pair_33, ri, b', 'long', 'pair_33, zy, a'], dtype=object)],\n",
       " [array(['pair_15, zy, a', 'pair_15, zy, b', 'DD:COSMOS'], dtype=object)],\n",
       " [array(['greedy', 'pair_15, ri, a', 'pair_15, ri, b'], dtype=object)],\n",
       " [array(['pair_15, ri, a', 'pair_15, ri, b', 'DD:COSMOS'], dtype=object)],\n",
       " [array(['greedy', 'pair_15, ri, a', 'pair_15, ri, b'], dtype=object)],\n",
       " [array(['pair_15, ri, a', 'pair_15, ri, b', 'DD:COSMOS'], dtype=object)],\n",
       " [array(['pair_15, zy, a', 'pair_15, zy, b', 'DD:COSMOS'], dtype=object)],\n",
       " [array(['DD:ELAISS1', 'greedy', 'twilight_near_sun, 0'], dtype=object)],\n",
       " [array(['pair_15, ri, a', 'pair_15, ri, b', 'DD:XMM_LSS'], dtype=object)],\n",
       " [array(['greedy', 'pair_15, ri, a', 'pair_15, ri, b'], dtype=object)],\n",
       " [array(['pair_15, ri, a', 'pair_15, ri, b', 'DD:ECDFS'], dtype=object)],\n",
       " [array(['pair_15, zy, a', 'pair_15, zy, b', 'pair_33, ri, a'], dtype=object)],\n",
       " [array(['pair_33, ri, b', 'long', 'pair_33, iz, a'], dtype=object)],\n",
       " [array(['pair_33, iz, b', 'long', 'pair_33, ug, a'], dtype=object)],\n",
       " [array(['pair_15, iz, a', 'pair_15, iz, b', 'DD:COSMOS'], dtype=object)],\n",
       " [array(['pair_33, gr, b', 'long', 'pair_33, gr, a'], dtype=object)],\n",
       " [array(['pair_33, ur, b', 'greedy', 'pair_33, gr, a'], dtype=object)],\n",
       " [array(['pair_15, iz, a', 'pair_15, iz, b', 'DD:ELAISS1'], dtype=object)],\n",
       " [array(['pair_15, zy, a', 'pair_15, zy, b', 'DD:COSMOS'], dtype=object)],\n",
       " [array(['pair_33, gr, a', 'pair_33, gr, b', 'pair_33, zy, a'], dtype=object)],\n",
       " [array(['pair_33, iz, b', 'long', 'pair_33, zy, a'], dtype=object)],\n",
       " [array(['DD:XMM_LSS', 'DD:XMM_LSS', 'DD:EDFS_a'], dtype=object)],\n",
       " [array(['DD:ECDFS', 'greedy', 'twilight_near_sun, 0'], dtype=object)],\n",
       " [array(['DD:ELAISS1', 'long', 'pair_33, gr, a'], dtype=object)],\n",
       " [array(['pair_15, iz, a', 'pair_15, iz, b', 'DD:COSMOS'], dtype=object)],\n",
       " [array(['pair_15, zy, a', 'pair_15, zy, b', 'DD:ECDFS'], dtype=object)],\n",
       " [array(['pair_33, zy, a', 'pair_33, zy, b', 'pair_33, gr, a'], dtype=object)],\n",
       " [array(['greedy', 'pair_15, ri, a', 'pair_15, ri, b'], dtype=object)],\n",
       " [array(['pair_15, ri, a', 'pair_15, ri, b', 'DD:COSMOS'], dtype=object)],\n",
       " [array(['DD:ECDFS', 'greedy', 'twilight_near_sun, 0'], dtype=object)],\n",
       " [array(['pair_33, iz, b', 'long', 'pair_33, yy, a'], dtype=object)],\n",
       " [array(['DD:EDFS_b', 'DD:EDFS_b', 'pair_33, gr, a'], dtype=object)],\n",
       " [array(['DD:COSMOS', 'DD:COSMOS', 'pair_33, gr, a'], dtype=object)],\n",
       " [array(['DD:EDFS_b', 'greedy', 'twilight_near_sun, 0'], dtype=object)],\n",
       " [array(['pair_33, gr, b', 'greedy', 'pair_33, gr, a'], dtype=object)],\n",
       " [array(['greedy', 'pair_15, ri, a', 'pair_15, ri, b'], dtype=object)],\n",
       " [array(['pair_15, ri, a', 'pair_15, ri, b', 'DD:ELAISS1'], dtype=object)],\n",
       " [array(['pair_33, ur, b', 'long', 'pair_33, ur, a'], dtype=object)],\n",
       " [array(['pair_15, ri, a', 'pair_15, ri, b', 'DD:COSMOS'], dtype=object)],\n",
       " [array(['pair_33, yy, b', 'long', 'pair_33, yy, a'], dtype=object)],\n",
       " [array(['DD:ECDFS', 'greedy', 'twilight_near_sun, 0'], dtype=object)],\n",
       " [array(['pair_33, ur, b', 'greedy', 'pair_33, gr, a'], dtype=object)],\n",
       " [array(['DD:ELAISS1', 'DD:ELAISS1', 'DD:ECDFS'], dtype=object)],\n",
       " [array(['pair_15, zy, a', 'pair_15, zy, b', 'DD:ECDFS'], dtype=object)],\n",
       " [array(['pair_33, ur, b', 'long', 'pair_33, ug, a'], dtype=object)],\n",
       " [array(['pair_15, yy, b', 'pair_15, ri, a', 'pair_15, ri, b'], dtype=object)],\n",
       " [array(['pair_15, ri, a', 'pair_15, ri, b', 'pair_33, gr, a'], dtype=object)],\n",
       " [array(['pair_33, ri, b', 'long', 'pair_33, ug, a'], dtype=object)],\n",
       " [array(['pair_33, ri, b', 'long', 'pair_33, ur, a'], dtype=object)],\n",
       " [array(['pair_33, gr, a', 'pair_33, gr, b', 'pair_33, iz, a'], dtype=object)]]"
      ]
     },
     "execution_count": 3,
     "metadata": {},
     "output_type": "execute_result"
    }
   ],
   "source": [
    "notes"
   ]
  },
  {
   "cell_type": "code",
   "execution_count": null,
   "id": "0f53ee40",
   "metadata": {},
   "outputs": [],
   "source": []
  },
  {
   "cell_type": "code",
   "execution_count": null,
   "id": "a30795b5",
   "metadata": {},
   "outputs": [],
   "source": []
  },
  {
   "cell_type": "code",
   "execution_count": null,
   "id": "a545945f",
   "metadata": {},
   "outputs": [],
   "source": []
  },
  {
   "cell_type": "code",
   "execution_count": null,
   "id": "e0c8547f",
   "metadata": {},
   "outputs": [],
   "source": []
  },
  {
   "cell_type": "code",
   "execution_count": null,
   "id": "e64a51d3",
   "metadata": {},
   "outputs": [],
   "source": []
  },
  {
   "cell_type": "code",
   "execution_count": null,
   "id": "d7063715",
   "metadata": {},
   "outputs": [],
   "source": [
    "\n"
   ]
  },
  {
   "cell_type": "code",
   "execution_count": null,
   "id": "c70eca9e",
   "metadata": {},
   "outputs": [],
   "source": []
  }
 ],
 "metadata": {
  "kernelspec": {
   "display_name": "Python 3 (ipykernel)",
   "language": "python",
   "name": "python3"
  },
  "language_info": {
   "codemirror_mode": {
    "name": "ipython",
    "version": 3
   },
   "file_extension": ".py",
   "mimetype": "text/x-python",
   "name": "python",
   "nbconvert_exporter": "python",
   "pygments_lexer": "ipython3",
   "version": "3.11.4"
  }
 },
 "nbformat": 4,
 "nbformat_minor": 5
}
