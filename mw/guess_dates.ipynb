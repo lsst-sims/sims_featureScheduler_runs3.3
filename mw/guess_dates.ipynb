{
 "cells": [
  {
   "cell_type": "code",
   "execution_count": 1,
   "id": "3ee2a90d",
   "metadata": {},
   "outputs": [],
   "source": [
    "import os\n",
    "import numpy as np\n",
    "import pandas as pd\n",
    "import matplotlib.pyplot as plt\n",
    "%matplotlib inline\n",
    "import healpy as hp\n",
    "\n",
    "import rubin_sim.maf as maf\n",
    "import rubin_sim.utils as rsUtils\n",
    "\n",
    "from scipy.stats import binned_statistic"
   ]
  },
  {
   "cell_type": "code",
   "execution_count": 11,
   "id": "f67f05cb",
   "metadata": {},
   "outputs": [],
   "source": [
    "baseline_file = '../baseline/baseline_v3.3_10yrs.db'\n",
    "name = os.path.basename(baseline_file).replace('.db','')\n",
    "resultsDb = maf.db.ResultsDb(out_dir='tmp')"
   ]
  },
  {
   "cell_type": "code",
   "execution_count": 12,
   "id": "110bfb83",
   "metadata": {},
   "outputs": [],
   "source": [
    "bundleList = []\n",
    "# The point on the sky we would like to get visits for\n",
    "ra = [268.708]\n",
    "dec = [-28.975]\n",
    "\n",
    "\n",
    "# Say we just want to pass data through, not compute anything. Documentation on the columns coming soon.\n",
    "metric = maf.metrics.PassMetric(cols=['filter', 'observationStartMJD', 'fiveSigmaDepth'])\n",
    "# Select all the visits\n",
    "sql = ''\n",
    "slicer = maf.slicers.UserPointsSlicer(ra=ra, dec=dec)\n",
    "bundleList.append(maf.MetricBundle(metric, slicer, sql, run_name=name))"
   ]
  },
  {
   "cell_type": "code",
   "execution_count": 13,
   "id": "67b49a4a",
   "metadata": {},
   "outputs": [],
   "source": [
    "bd = maf.metricBundles.make_bundles_dict_from_list(bundleList)\n",
    "bg = maf.metricBundles.MetricBundleGroup(bd, baseline_file, out_dir=outDir, results_db=resultsDb)\n",
    "bg.run_all()"
   ]
  },
  {
   "cell_type": "code",
   "execution_count": 16,
   "id": "b71a8d9c",
   "metadata": {},
   "outputs": [],
   "source": [
    "seasons = rsUtils.calc_season(ra[0], bundleList[0].metric_values[0]['observationStartMJD'])"
   ]
  },
  {
   "cell_type": "code",
   "execution_count": null,
   "id": "3f897682",
   "metadata": {},
   "outputs": [],
   "source": []
  },
  {
   "cell_type": "code",
   "execution_count": 18,
   "id": "271af16d",
   "metadata": {},
   "outputs": [
    {
     "data": {
      "text/plain": [
       "[<matplotlib.lines.Line2D at 0x107ca5f10>]"
      ]
     },
     "execution_count": 18,
     "metadata": {},
     "output_type": "execute_result"
    },
    {
     "data": {
      "image/png": "[encoded data removed]",
      "text/plain": [
       "<Figure size 640x480 with 1 Axes>"
      ]
     },
     "metadata": {},
     "output_type": "display_data"
    }
   ],
   "source": [
    "plt.plot(bundleList[0].metric_values[0]['observationStartMJD'], np.floor(seasons), 'ko')"
   ]
  },
  {
   "cell_type": "code",
   "execution_count": 20,
   "id": "c2f51000",
   "metadata": {},
   "outputs": [],
   "source": [
    "# Let's find the median observation date per seasons and pretend that's a good enough time to center on\n",
    "med_seasons, _be, _bn = binned_statistic(np.floor(seasons),\n",
    "                               bundleList[0].metric_values[0]['observationStartMJD'], statistic=np.median, bins=np.arange(11)-0.5)"
   ]
  },
  {
   "cell_type": "code",
   "execution_count": 21,
   "id": "348d77fb",
   "metadata": {},
   "outputs": [
    {
     "data": {
      "text/plain": [
       "array([60872.0194637 , 61213.13746731, 61559.342111  , 61947.2986307 ,\n",
       "       62318.80845182, 62670.27433717, 63067.21554347, 63381.39872344,\n",
       "       63773.23734278, 64107.76113675])"
      ]
     },
     "execution_count": 21,
     "metadata": {},
     "output_type": "execute_result"
    }
   ],
   "source": [
    "med_seasons"
   ]
  },
  {
   "cell_type": "code",
   "execution_count": null,
   "id": "ff8c648a",
   "metadata": {},
   "outputs": [],
   "source": []
  }
 ],
 "metadata": {
  "kernelspec": {
   "display_name": "Python 3 (ipykernel)",
   "language": "python",
   "name": "python3"
  },
  "language_info": {
   "codemirror_mode": {
    "name": "ipython",
    "version": 3
   },
   "file_extension": ".py",
   "mimetype": "text/x-python",
   "name": "python",
   "nbconvert_exporter": "python",
   "pygments_lexer": "ipython3",
   "version": "3.11.5"
  }
 },
 "nbformat": 4,
 "nbformat_minor": 5
}
