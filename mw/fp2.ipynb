{
 "cells": [
  {
   "cell_type": "code",
   "execution_count": 1,
   "id": "e742546e",
   "metadata": {},
   "outputs": [],
   "source": [
    "import numpy as np\n",
    "import healpy as hp\n",
    "from reweight_plane import CustomAreaMap\n",
    "import matplotlib.pylab as plt\n",
    "%matplotlib inline"
   ]
  },
  {
   "cell_type": "code",
   "execution_count": 2,
   "id": "2bf7f21b",
   "metadata": {},
   "outputs": [],
   "source": [
    "nside=32\n",
    "sky = CustomAreaMap(nside=nside, smc_radius=4, lmc_radius=6)\n",
    "footprints_hp_array, labels = sky.return_maps()"
   ]
  },
  {
   "cell_type": "code",
   "execution_count": 3,
   "id": "9126329d",
   "metadata": {},
   "outputs": [
    {
     "data": {
      "image/png": "[encoded data removed]",
      "text/plain": [
       "<Figure size 850x540 with 2 Axes>"
      ]
     },
     "metadata": {},
     "output_type": "display_data"
    }
   ],
   "source": [
    "hp.mollview(footprints_hp_array['r'])"
   ]
  },
  {
   "cell_type": "code",
   "execution_count": 4,
   "id": "35e8be89",
   "metadata": {},
   "outputs": [
    {
     "data": {
      "text/plain": [
       "{'': 0.0,\n",
       " 'LMC_SMC': 30400.89779861485,\n",
       " 'bulgy': 136275.6785363692,\n",
       " 'dusty_plane': 88742.89992488877,\n",
       " 'euclid_overlap': 9715.750842856296,\n",
       " 'lowdust': 1646036.239570363,\n",
       " 'nes': 71990.30227724185,\n",
       " 'scp': 9943.182064413302,\n",
       " 'virgo': 6895.048985252853}"
      ]
     },
     "execution_count": 4,
     "metadata": {},
     "output_type": "execute_result"
    }
   ],
   "source": [
    "sky.estimate_visits_per_label(2e6)"
   ]
  },
  {
   "cell_type": "code",
   "execution_count": 5,
   "id": "db7e6be3",
   "metadata": {},
   "outputs": [
    {
     "data": {
      "text/plain": [
       "(14.87081636, 45.60383684, 73.36269405, 73.36269405, 14.87081636, 14.87081636)"
      ]
     },
     "execution_count": 5,
     "metadata": {},
     "output_type": "execute_result"
    }
   ],
   "source": [
    "res, summed, labels = sky.estimate_visits(2e6)\n",
    "good = np.where(labels == 'dusty_plane')[0][0]\n",
    "res[good]"
   ]
  },
  {
   "cell_type": "code",
   "execution_count": null,
   "id": "dfdc678e",
   "metadata": {},
   "outputs": [],
   "source": []
  },
  {
   "cell_type": "code",
   "execution_count": 5,
   "id": "2be51eff",
   "metadata": {},
   "outputs": [
    {
     "data": {
      "text/plain": [
       "{'': 0.0,\n",
       " 'LMC_SMC': 30406.542913248348,\n",
       " 'bulgy': 136300.98344125037,\n",
       " 'dusty_plane': 88388.00035924162,\n",
       " 'euclid_overlap': 9717.554951656692,\n",
       " 'lowdust': 1646341.8905193848,\n",
       " 'nes': 72003.67008998037,\n",
       " 'scp': 9945.028404707171,\n",
       " 'virgo': 6896.329320530554}"
      ]
     },
     "execution_count": 5,
     "metadata": {},
     "output_type": "execute_result"
    }
   ],
   "source": [
    "sky.estimate_visits_per_label(2e6)"
   ]
  },
  {
   "cell_type": "code",
   "execution_count": 20,
   "id": "3d69d90f",
   "metadata": {},
   "outputs": [],
   "source": [
    "res, summed, labels = sky.estimate_visits(2e6)"
   ]
  },
  {
   "cell_type": "code",
   "execution_count": 24,
   "id": "8da3eba1",
   "metadata": {},
   "outputs": [
    {
     "data": {
      "text/plain": [
       "(13.88200586, 25.78086803, 55.52802345, 55.52802345, 49.57859236, 35.6965865)"
      ]
     },
     "execution_count": 24,
     "metadata": {},
     "output_type": "execute_result"
    }
   ],
   "source": [
    "good = np.where(labels == 'dusty_plane')[0][0]\n",
    "res[good]"
   ]
  },
  {
   "cell_type": "code",
   "execution_count": 19,
   "id": "caff36af",
   "metadata": {},
   "outputs": [
    {
     "data": {
      "text/plain": [
       "array([( 0.        ,  0.        ,  0.        ,  0.        ,  0.        ,  0.        ),\n",
       "       ( 0.        ,  0.        ,  0.        ,  0.        ,  0.        ,  0.        ),\n",
       "       ( 0.        ,  0.        ,  0.        ,  0.        ,  0.        ,  0.        ),\n",
       "       ...,\n",
       "       (15.86514956, 29.74715542, 15.86514956, 29.74715542, 15.86514956, 11.89886217),\n",
       "       (15.86514956, 29.74715542, 15.86514956, 29.74715542, 15.86514956, 11.89886217),\n",
       "       (15.86514956, 29.74715542, 15.86514956, 29.74715542, 15.86514956, 11.89886217)],\n",
       "      dtype=[('u', '<f8'), ('g', '<f8'), ('r', '<f8'), ('i', '<f8'), ('z', '<f8'), ('y', '<f8')])"
      ]
     },
     "execution_count": 19,
     "metadata": {},
     "output_type": "execute_result"
    }
   ],
   "source": [
    "ack1"
   ]
  },
  {
   "cell_type": "code",
   "execution_count": null,
   "id": "b614bbd4",
   "metadata": {},
   "outputs": [],
   "source": []
  }
 ],
 "metadata": {
  "kernelspec": {
   "display_name": "Python 3 (ipykernel)",
   "language": "python",
   "name": "python3"
  },
  "language_info": {
   "codemirror_mode": {
    "name": "ipython",
    "version": 3
   },
   "file_extension": ".py",
   "mimetype": "text/x-python",
   "name": "python",
   "nbconvert_exporter": "python",
   "pygments_lexer": "ipython3",
   "version": "3.11.5"
  }
 },
 "nbformat": 4,
 "nbformat_minor": 5
}
